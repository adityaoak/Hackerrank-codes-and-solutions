{
 "cells": [
  {
   "cell_type": "code",
   "execution_count": 6,
   "metadata": {},
   "outputs": [
    {
     "name": "stdout",
     "output_type": "stream",
     "text": [
      "5\n",
      "6 4 5 6 6\n",
      "5\n"
     ]
    }
   ],
   "source": [
    "#Runner-up score\n",
    "\n",
    "if __name__ == '__main__':\n",
    "    n = int(input())\n",
    "    arr = map(int, input().split())\n",
    "    \n",
    "arr = list(dict.fromkeys(arr))\n",
    "\n",
    "for i in arr:\n",
    "    if i == max(arr):\n",
    "        arr.remove(i)\n",
    "        print(max(arr))\n",
    "        break\n",
    "    else:\n",
    "        continue"
   ]
  },
  {
   "cell_type": "code",
   "execution_count": 55,
   "metadata": {},
   "outputs": [
    {
     "name": "stdout",
     "output_type": "stream",
     "text": [
      "1\n",
      "A 2.2 5 3.3\n",
      "A 2.2 5 3.3\n",
      "['A', '2.2', '5', '3.3']\n",
      "{'A': ('2.2', '5', '3.3')}\n",
      "Enter name: A\n",
      "3.5\n"
     ]
    },
    {
     "data": {
      "text/plain": [
       "'\\n\\n\\nuser input for name\\ndisplay average marks of that user\\n'"
      ]
     },
     "execution_count": 55,
     "metadata": {},
     "output_type": "execute_result"
    }
   ],
   "source": [
    "# Find percentage\n",
    "\n",
    "#enter n\n",
    "\n",
    "rec_dict = {}\n",
    "\n",
    "N = int(input())\n",
    "\n",
    "#allow to enter n lines of values: name, pmarks, cmarks, bmarks\n",
    "for i in range(N):\n",
    "    record = input()\n",
    "    rec_list = record.split()\n",
    "    rec_dict[rec_list[0]] = rec_list[1],rec_list[2],rec_list[3]      #save values to dictionary\n",
    "\n",
    "name = input(\"Enter name: \")\n",
    "\n",
    "name = rec_dict[name]\n",
    "\n",
    "marks = map(float, name)\n",
    "\n",
    "marks = sum(marks)/3\n",
    "\n",
    "print(marks)    \n",
    "\"\"\"\n",
    "\n",
    "\n",
    "user input for name\n",
    "display average marks of that user\n",
    "\"\"\""
   ]
  },
  {
   "cell_type": "code",
   "execution_count": 75,
   "metadata": {},
   "outputs": [
    {
     "name": "stdout",
     "output_type": "stream",
     "text": [
      "2\n",
      "insert 0 1\n",
      "len:  3\n",
      "print\n",
      "len:  1\n"
     ]
    },
    {
     "ename": "IndexError",
     "evalue": "list index out of range",
     "output_type": "error",
     "traceback": [
      "\u001b[1;31m---------------------------------------------------------------------------\u001b[0m",
      "\u001b[1;31mIndexError\u001b[0m                                Traceback (most recent call last)",
      "\u001b[1;32m<ipython-input-75-1a4cbc9e3b03>\u001b[0m in \u001b[0;36m<module>\u001b[1;34m()\u001b[0m\n\u001b[0;32m     20\u001b[0m \u001b[1;33m\u001b[0m\u001b[0m\n\u001b[0;32m     21\u001b[0m     \u001b[1;32mif\u001b[0m \u001b[0mlen\u001b[0m\u001b[1;33m(\u001b[0m\u001b[0mtext_list\u001b[0m\u001b[1;33m)\u001b[0m \u001b[1;33m<=\u001b[0m\u001b[1;36m2\u001b[0m\u001b[1;33m:\u001b[0m\u001b[1;33m\u001b[0m\u001b[0m\n\u001b[1;32m---> 22\u001b[1;33m         \u001b[0mval\u001b[0m \u001b[1;33m=\u001b[0m \u001b[0mint\u001b[0m\u001b[1;33m(\u001b[0m\u001b[0mtext_list\u001b[0m\u001b[1;33m[\u001b[0m\u001b[1;36m2\u001b[0m\u001b[1;33m]\u001b[0m\u001b[1;33m)\u001b[0m\u001b[1;33m\u001b[0m\u001b[0m\n\u001b[0m\u001b[0;32m     23\u001b[0m \u001b[1;33m\u001b[0m\u001b[0m\n\u001b[0;32m     24\u001b[0m     \u001b[1;32mif\u001b[0m \u001b[0mcommd\u001b[0m \u001b[1;33m==\u001b[0m \u001b[1;34m'insert'\u001b[0m\u001b[1;33m:\u001b[0m\u001b[1;33m\u001b[0m\u001b[0m\n",
      "\u001b[1;31mIndexError\u001b[0m: list index out of range"
     ]
    }
   ],
   "source": [
    "# Lists\n",
    "\n",
    "lst = []\n",
    "\n",
    "N = int(input())\n",
    "\n",
    "#commd_list = [\"insert\",\"print\",\"remove\",\"append\",\"sort\",\"pop\",\"reverse\"]\n",
    "\n",
    "for i in range(N):\n",
    "    text = input()\n",
    "    text_list = text.split()\n",
    "    print(\"len: \",len(text_list))\n",
    "    \n",
    "    commd = text_list[0]\n",
    "    \n",
    "    if len(text_list) == 3: \n",
    "        posn = int(text_list[1])\n",
    "        val = int(text_list[2])\n",
    "    \n",
    "    if len(text_list) == 2:\n",
    "        val = int(text_list[1])\n",
    "    \n",
    "    if commd == 'insert':\n",
    "        lst.insert(posn,val)\n",
    "        continue\n",
    "\n",
    "    elif commd == \"print\":\n",
    "        print(lst)\n",
    "        continue\n",
    "\n",
    "    elif commd == \"remove\":\n",
    "        lst.remove(val)\n",
    "        continue\n",
    "\n",
    "    elif commd == \"append\":\n",
    "        lst.append(val)\n",
    "        continue\n",
    "\n",
    "    elif commd == \"sort\":\n",
    "        lst.sort()\n",
    "        continue\n",
    "\n",
    "    elif commd == \"pop\":\n",
    "        lst.pop()\n",
    "        continue\n",
    "\n",
    "    elif commd == \"reverse\":\n",
    "        lst.reverse()\n",
    "        continue"
   ]
  },
  {
   "cell_type": "code",
   "execution_count": 23,
   "metadata": {},
   "outputs": [
    {
     "name": "stdout",
     "output_type": "stream",
     "text": [
      "Hello\n",
      "hELLO\n"
     ]
    }
   ],
   "source": [
    "# swapcase\n",
    "\n",
    "def swap_case(s):\n",
    "    lst = []\n",
    "    ls = list(s)\n",
    "\n",
    "    for i in ls:\n",
    "        if i.isupper() == True:\n",
    "            i = i.lower()\n",
    "            lst.append(i)\n",
    "            \n",
    "        elif i.islower() == True:\n",
    "            i = i.upper()\n",
    "            lst.append(i)\n",
    "        \n",
    "        elif i == \" \":\n",
    "            lst.append(i)\n",
    "            \n",
    "        else:\n",
    "            lst.append(i)\n",
    "            continue\n",
    "        \n",
    "    return \"\".join(lst)\n",
    "\n",
    "if __name__ == '__main__':\n",
    "    s = input()\n",
    "    result = swap_case(s)\n",
    "    print(result)"
   ]
  },
  {
   "cell_type": "code",
   "execution_count": 1,
   "metadata": {},
   "outputs": [
    {
     "name": "stdout",
     "output_type": "stream",
     "text": [
      "abcdcdc\n",
      "cdc\n",
      "2\n"
     ]
    }
   ],
   "source": [
    "# Find a string\n",
    "#import pdb\n",
    "\n",
    "def count_substring(string, sub_string):\n",
    "    \n",
    "    cntr=0\n",
    "    string_len = len(string)\n",
    "    sub_len = len(sub_string)\n",
    "    \n",
    "    for i in range(string_len):\n",
    "        some_part = string[i:sub_len]\n",
    "        if sub_string == some_part:\n",
    "            cntr+=1\n",
    "            sub_len+=1            \n",
    "            continue\n",
    "            \n",
    "        else:\n",
    "            sub_len+=1\n",
    "            continue\n",
    "    \n",
    "    return cntr\n",
    "    \n",
    "if __name__ == '__main__':\n",
    "    string = input().strip()\n",
    "    sub_string = input().strip()\n",
    "    count = count_substring(string, sub_string)\n",
    "    print(count)"
   ]
  },
  {
   "cell_type": "code",
   "execution_count": 9,
   "metadata": {},
   "outputs": [
    {
     "name": "stdout",
     "output_type": "stream",
     "text": [
      "11 33\n",
      "---------------.|.---------------\n",
      "------------.|..|..|.------------\n",
      "---------.|..|..|..|..|.---------\n",
      "------.|..|..|..|..|..|..|.------\n",
      "---.|..|..|..|..|..|..|..|..|.---\n",
      "-------------WELCOME-------------\n",
      "---.|..|..|..|..|..|..|..|..|.---\n",
      "------.|..|..|..|..|..|..|.------\n",
      "---------.|..|..|..|..|.---------\n",
      "------------.|..|..|.------------\n",
      "---------------.|.---------------\n"
     ]
    }
   ],
   "source": [
    "#Designer doormat\n",
    "\n",
    "symbl_cnt = 1\n",
    "invert_flag = 0\n",
    "\n",
    "y,x = map(int, input().split())\n",
    "\n",
    "for y1 in range(y):\n",
    "    \n",
    "    if y1 == (y-1)//2:\n",
    "        print('-'*((x-7)//2)+'WELCOME'+'-'*((x-7)//2))\n",
    "        invert_flag = 1\n",
    "        continue\n",
    "    \n",
    "    if invert_flag == 1:\n",
    "        symbl_cnt -= 2 \n",
    "        \n",
    "    print('-'*((x-(symbl_cnt*3))//2)+'.|.'*symbl_cnt+'-'*((x-(symbl_cnt*3))//2))\n",
    "    \n",
    "    if invert_flag == 0:\n",
    "        symbl_cnt+=2"
   ]
  },
  {
   "cell_type": "code",
   "execution_count": 1,
   "metadata": {},
   "outputs": [
    {
     "ename": "SyntaxError",
     "evalue": "invalid syntax (<ipython-input-1-f9169756f7f1>, line 17)",
     "output_type": "error",
     "traceback": [
      "\u001b[1;36m  File \u001b[1;32m\"<ipython-input-1-f9169756f7f1>\"\u001b[1;36m, line \u001b[1;32m17\u001b[0m\n\u001b[1;33m    elif i.isdigit() == True:\u001b[0m\n\u001b[1;37m       ^\u001b[0m\n\u001b[1;31mSyntaxError\u001b[0m\u001b[1;31m:\u001b[0m invalid syntax\n"
     ]
    }
   ],
   "source": [
    "#String validators\n",
    "\n",
    "if __name__ == '__main__':\n",
    "    s = input()\n",
    "    \n",
    "    print(\"True\") if s.isalnum() == True else print(\"False\")\n",
    "        \n",
    "    for i in s:\n",
    "        \n",
    "        if i.isapha() == True:\n",
    "            print(\"True\")\n",
    "            break        \n",
    "        \n",
    "        else:\n",
    "            print(\"False\")\n",
    "        \n",
    "        elif i.isdigit() == True:\n",
    "            print(\"True\")\n",
    "            break\n",
    "        \n",
    "        else print(\"False\")\n",
    "    \n",
    "    print(\"True\") if [i for i in s].isdigit() == True else print(\"False\")\n",
    "    \n",
    "    print(\"True\") if [i for i in s].isdigit() == True else print(\"False\")\n",
    "    \n",
    "    for i in s:\n",
    "        \n",
    "        if(i.islower() == True):\n",
    "            print(\"True\")\n",
    "            break\n",
    "        \n",
    "        elif i==len(s):\n",
    "            print(\"False\")\n",
    "            break\n",
    "\n",
    "        else:\n",
    "            continue\n",
    "\n",
    "    for i in s:\n",
    "        if(i.isupper() == True):\n",
    "           print(\"True\")\n",
    "           break\n",
    "\n",
    "        elif i==len(s):\n",
    "            print(\"False\")\n",
    "            break\n",
    "\n",
    "        else:\n",
    "            continue\n",
    "\n"
   ]
  },
  {
   "cell_type": "code",
   "execution_count": null,
   "metadata": {
    "collapsed": true
   },
   "outputs": [],
   "source": [
    "# Nested lists\n",
    "\n",
    "N = int(input())\n",
    "N_2 = 2*N"
   ]
  },
  {
   "cell_type": "code",
   "execution_count": 7,
   "metadata": {},
   "outputs": [
    {
     "name": "stdout",
     "output_type": "stream",
     "text": [
      "1+2j\n",
      "2.23606797749979\n",
      "1.1071487177940904\n"
     ]
    }
   ],
   "source": [
    "# Polar coordinates\n",
    "\n",
    "import cmath\n",
    "\n",
    "cnum = complex(input())\n",
    "\n",
    "r = abs(cnum)\n",
    "phi = cmath.phase(cnum)\n",
    "\n",
    "print(r)\n",
    "print(phi)"
   ]
  },
  {
   "cell_type": "code",
   "execution_count": 41,
   "metadata": {},
   "outputs": [
    {
     "name": "stdout",
     "output_type": "stream",
     "text": [
      "20\n",
      "10\n",
      "63°\n"
     ]
    }
   ],
   "source": [
    "# Find angle\n",
    "\n",
    "import math\n",
    "\n",
    "ab = int(input())\n",
    "bc = int(input())\n",
    "\n",
    "ac = math.sqrt(math.pow(ab,2)+math.pow(bc,2))\n",
    "mc = ac/2\n",
    "\n",
    "theta = str(round(math.degrees(math.asin(ab/ac))))\n",
    "ans = theta+''+'\\xb0'\n",
    "\n",
    "print(ans.strip())"
   ]
  },
  {
   "cell_type": "code",
   "execution_count": 22,
   "metadata": {},
   "outputs": [
    {
     "name": "stdout",
     "output_type": "stream",
     "text": [
      "6\n",
      "1\n",
      "121\n",
      "12321\n",
      "1234321\n",
      "123454321\n",
      "12345654321\n"
     ]
    }
   ],
   "source": [
    "# Triangle quest \n",
    "# palidrome number triangle (the long way)\n",
    "\n",
    "# 1\n",
    "# 121\n",
    "# 12321\n",
    "# 1234321\n",
    "# 12345321\n",
    "\n",
    "N = int(input())\n",
    "j=0\n",
    "k=0\n",
    "\n",
    "for i in range(1,N+1):\n",
    "    \n",
    "    for j in range(0,i+k):        \n",
    "       \n",
    "        if j==i:\n",
    "            \n",
    "            for j in range(j-1,0,-1):\n",
    "                print(j,end='')\n",
    "            \n",
    "            break            \n",
    "        \n",
    "        else:\n",
    "            print(j+1,end=\"\")\n",
    "        \n",
    "    k+=1\n",
    "    print()"
   ]
  },
  {
   "cell_type": "code",
   "execution_count": 33,
   "metadata": {},
   "outputs": [
    {
     "name": "stdout",
     "output_type": "stream",
     "text": [
      "4\n",
      "<generator object <genexpr> at 0x0000021CE335B9E8>\n",
      "<generator object <genexpr> at 0x0000021CE335B9E8>\n",
      "<generator object <genexpr> at 0x0000021CE335B9E8>\n",
      "<generator object <genexpr> at 0x0000021CE335B9E8>\n"
     ]
    }
   ],
   "source": [
    "# triangle quest\n",
    "# palindrome triangle (one print statement)\n",
    "\n",
    "for i in range(1,int(input())+1):\n",
    "    print(j for j in range(1"
   ]
  },
  {
   "cell_type": "code",
   "execution_count": 35,
   "metadata": {},
   "outputs": [
    {
     "name": "stdout",
     "output_type": "stream",
     "text": [
      "hello worls\n",
      "Hello Worls\n"
     ]
    }
   ],
   "source": [
    "# Capitalize\n",
    "\n",
    "#!/bin/python3\n",
    "\n",
    "import math\n",
    "import os\n",
    "import random\n",
    "import re\n",
    "import sys\n",
    "\n",
    "# Complete the solve function below.\n",
    "def solve(s):\n",
    "    cap_flag = 0\n",
    "    lst = []\n",
    "    ls = list(s)\n",
    "    \n",
    "    #print(ls)\n",
    "    \n",
    "    for i in ls:\n",
    "        \n",
    "        if ls.index(i) == 0:\n",
    "            i = i.upper()\n",
    "            lst.append(i)\n",
    "            continue\n",
    "        \n",
    "        elif i==' ':\n",
    "            cap_flag = 1\n",
    "            lst.append(i)\n",
    "            continue\n",
    "        \n",
    "        elif cap_flag == 1:\n",
    "            i = i.upper()\n",
    "            lst.append(i)\n",
    "            cap_flag = 0\n",
    "        \n",
    "        else:\n",
    "            lst.append(i)\n",
    "            continue\n",
    "    \n",
    "    \n",
    "    return \"\".join(lst)\n",
    "\n",
    "\n",
    "if __name__ == '__main__':\n",
    "\n",
    "    s = input()\n",
    "    result = solve(s)\n",
    "    print(result)"
   ]
  },
  {
   "cell_type": "code",
   "execution_count": 59,
   "metadata": {},
   "outputs": [
    {
     "ename": "SyntaxError",
     "evalue": "invalid syntax (<ipython-input-59-a4244b9f1360>, line 10)",
     "output_type": "error",
     "traceback": [
      "\u001b[1;36m  File \u001b[1;32m\"<ipython-input-59-a4244b9f1360>\"\u001b[1;36m, line \u001b[1;32m10\u001b[0m\n\u001b[1;33m    size, vals for vals in range(size) = map(int, input().split())\u001b[0m\n\u001b[1;37m                 ^\u001b[0m\n\u001b[1;31mSyntaxError\u001b[0m\u001b[1;31m:\u001b[0m invalid syntax\n"
     ]
    }
   ],
   "source": [
    "# Maximize It!\n",
    "\n",
    "# Take input K and M\n",
    "\n",
    "K,M = map(int, input().split())\n",
    "\n",
    "for i in range(K):\n",
    "    \n",
    "    dicts = {}\n",
    "    \n",
    "    dicts[size] = = map(int, input().split())\n",
    "    \n",
    "\n",
    "# K number of list, each K line will have an int input of number of elements in that list followed by entry of those elements themselves\n",
    "\n",
    "# f(x) =  x^2 and Smax = (f1+f2+...) % M . Basically pick one element from each list, square it, add them together and see which\n",
    "# one gives the max Smax value."
   ]
  },
  {
   "cell_type": "code",
   "execution_count": 65,
   "metadata": {},
   "outputs": [
    {
     "name": "stdout",
     "output_type": "stream",
     "text": [
      "[1, 2, 3]\n"
     ]
    }
   ],
   "source": [
    "dicts = {'a':[1,2,3],'b':[3,4,5]}\n",
    "print(dicts['a'])"
   ]
  },
  {
   "cell_type": "code",
   "execution_count": null,
   "metadata": {
    "collapsed": true
   },
   "outputs": [],
   "source": [
    "# Any or All\n",
    "\n",
    "N = int(input())\n",
    "arr = map(int, input().split())\n",
    "\n"
   ]
  },
  {
   "cell_type": "code",
   "execution_count": 16,
   "metadata": {},
   "outputs": [
    {
     "name": "stdout",
     "output_type": "stream",
     "text": [
      "10\n",
      "161 182 161 154 176 170 167 171 170 174\n"
     ]
    },
    {
     "ename": "NameError",
     "evalue": "name 'average' is not defined",
     "output_type": "error",
     "traceback": [
      "\u001b[1;31m---------------------------------------------------------------------------\u001b[0m",
      "\u001b[1;31mNameError\u001b[0m                                 Traceback (most recent call last)",
      "\u001b[1;32m<ipython-input-16-7775ab810ee4>\u001b[0m in \u001b[0;36m<module>\u001b[1;34m()\u001b[0m\n\u001b[0;32m      4\u001b[0m \u001b[0melems\u001b[0m \u001b[1;33m=\u001b[0m \u001b[0mset\u001b[0m\u001b[1;33m(\u001b[0m\u001b[0mlist\u001b[0m\u001b[1;33m(\u001b[0m\u001b[0mmap\u001b[0m\u001b[1;33m(\u001b[0m\u001b[0mint\u001b[0m\u001b[1;33m,\u001b[0m \u001b[0minput\u001b[0m\u001b[1;33m(\u001b[0m\u001b[1;33m)\u001b[0m\u001b[1;33m.\u001b[0m\u001b[0msplit\u001b[0m\u001b[1;33m(\u001b[0m\u001b[1;33m)\u001b[0m\u001b[1;33m)\u001b[0m\u001b[1;33m)\u001b[0m\u001b[1;33m)\u001b[0m\u001b[1;33m\u001b[0m\u001b[0m\n\u001b[0;32m      5\u001b[0m \u001b[1;33m\u001b[0m\u001b[0m\n\u001b[1;32m----> 6\u001b[1;33m \u001b[0mprint\u001b[0m\u001b[1;33m(\u001b[0m\u001b[0maverage\u001b[0m\u001b[1;33m(\u001b[0m\u001b[0melems\u001b[0m\u001b[1;33m)\u001b[0m\u001b[1;33m)\u001b[0m\u001b[1;33m\u001b[0m\u001b[0m\n\u001b[0m",
      "\u001b[1;31mNameError\u001b[0m: name 'average' is not defined"
     ]
    }
   ],
   "source": [
    "#Sets\n",
    "\n",
    "N = int(input())\n",
    "elems = set(list(map(int, input().split())))\n",
    "\n",
    "print(average(elems))"
   ]
  },
  {
   "cell_type": "code",
   "execution_count": 28,
   "metadata": {},
   "outputs": [
    {
     "name": "stdout",
     "output_type": "stream",
     "text": [
      "4\n",
      "1 2 3 4\n",
      "4\n",
      "2 3 4 5\n",
      "1\n",
      "5\n"
     ]
    }
   ],
   "source": [
    "# Symmetric difference\n",
    "\n",
    "M = int(input())\n",
    "setM = set(map(int, input().split()))\n",
    "\n",
    "N = int(input())\n",
    "setN = set(map(int, input().split()))\n",
    "\n",
    "diff = list(setM.union(setN) - setM.intersection(setN))\n",
    "\n",
    "diff.sort()\n",
    "\n",
    "for i in diff:\n",
    "    print(i)\n"
   ]
  }
 ],
 "metadata": {
  "kernelspec": {
   "display_name": "Python 3",
   "language": "python",
   "name": "python3"
  },
  "language_info": {
   "codemirror_mode": {
    "name": "ipython",
    "version": 3
   },
   "file_extension": ".py",
   "mimetype": "text/x-python",
   "name": "python",
   "nbconvert_exporter": "python",
   "pygments_lexer": "ipython3",
   "version": "3.6.1"
  }
 },
 "nbformat": 4,
 "nbformat_minor": 2
}
