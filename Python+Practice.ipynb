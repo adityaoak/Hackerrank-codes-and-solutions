{
 "cells": [
  {
   "cell_type": "code",
   "execution_count": 12,
   "metadata": {},
   "outputs": [
    {
     "name": "stdout",
     "output_type": "stream",
     "text": [
      "Enter your name: Aditya\n",
      "Enter your age: 25\n",
      "Your name is Aditya\n",
      "\n",
      "Your Age is 25\n",
      "Aditya, you will turn 100 years old in 2092\n"
     ]
    }
   ],
   "source": [
    "name=input(\"Enter your name: \")\n",
    "age=int(input(\"Enter your age: \"))\n",
    "print(\"Your name is \"+name+ \"\\n\\nYour Age is\",age)\n",
    "curr_yr=2017\n",
    "print(name+\", you will turn 100 years old in\",100-age+curr_yr)"
   ]
  },
  {
   "cell_type": "code",
   "execution_count": 13,
   "metadata": {},
   "outputs": [
    {
     "name": "stdout",
     "output_type": "stream",
     "text": [
      "[57, 55, 87]\n"
     ]
    }
   ],
   "source": [
    "a=[14,57,55,6,87,42,13,8]\n",
    "b=[]\n",
    "\n",
    "for i in a:\n",
    "    if i>50:\n",
    "        b.append(i)\n",
    "print(b)"
   ]
  },
  {
   "cell_type": "code",
   "execution_count": 15,
   "metadata": {},
   "outputs": [
    {
     "name": "stdout",
     "output_type": "stream",
     "text": [
      "Enter a number100\n",
      "Divisors of 100 are: [1, 2, 4, 5, 10, 20, 25, 50]\n"
     ]
    }
   ],
   "source": [
    "num=int(input(\"Enter a number\"))\n",
    "num_list=range(1,num)\n",
    "divisors_list=[]\n",
    "\n",
    "for i in num_list:\n",
    "    if num%i==0:\n",
    "        divisors_list.append(i)\n",
    "        \n",
    "print(\"Divisors of\",num,\"are:\",divisors_list)\n",
    "        "
   ]
  },
  {
   "cell_type": "code",
   "execution_count": 21,
   "metadata": {},
   "outputs": [
    {
     "name": "stdout",
     "output_type": "stream",
     "text": [
      "[14, 32, 44, 65, 66, 75, 89, 89]\n"
     ]
    }
   ],
   "source": [
    "a=range(1,100)\n",
    "b=[44,89,66,75,65,32,14,89]\n",
    "c=[]\n",
    "\n",
    "for i in a:\n",
    "    for j in b:\n",
    "        if i==j:\n",
    "            c.append(i)\n",
    "print(c)\n"
   ]
  },
  {
   "cell_type": "code",
   "execution_count": 23,
   "metadata": {},
   "outputs": [
    {
     "name": "stdout",
     "output_type": "stream",
     "text": [
      "Enter a string:aditya\n",
      "Nah! Not a palindrome\n"
     ]
    }
   ],
   "source": [
    "strg=str(input(\"Enter a string:\"))\n",
    "revrs=strg[::-1]\n",
    "\n",
    "if strg==revrs:\n",
    "    print(\"Yay! Its a palindrome\")\n",
    "else:\n",
    "    print(\"Nah! Not a palindrome\")\n"
   ]
  },
  {
   "cell_type": "code",
   "execution_count": 42,
   "metadata": {},
   "outputs": [
    {
     "name": "stdout",
     "output_type": "stream",
     "text": [
      "Enter any number:2\n",
      "Prime\n"
     ]
    }
   ],
   "source": [
    "nmbr=int(input(\"Enter any number:\"))\n",
    "if nmbr==1:\n",
    "    print(\"Neither\")\n",
    "else:\n",
    "    x=range(1,nmbr+1)\n",
    "    count=0\n",
    "    for i in x:\n",
    "        if nmbr%i==0:\n",
    "            count+=1\n",
    "    if count<=2:\n",
    "        print(\"Prime\")\n",
    "    else:\n",
    "        print(\"Not Prime\")"
   ]
  },
  {
   "cell_type": "code",
   "execution_count": 6,
   "metadata": {},
   "outputs": [
    {
     "name": "stdout",
     "output_type": "stream",
     "text": [
      "[2002, 2009, 2016, 2023, 2037, 2044, 2051, 2058, 2072, 2079, 2086, 2093, 2107, 2114, 2121, 2128, 2142, 2149, 2156, 2163, 2177, 2184, 2191, 2198, 2212, 2219, 2226, 2233, 2247, 2254, 2261, 2268, 2282, 2289, 2296, 2303, 2317, 2324, 2331, 2338, 2352, 2359, 2366, 2373, 2387, 2394, 2401, 2408, 2422, 2429, 2436, 2443, 2457, 2464, 2471, 2478, 2492, 2499, 2506, 2513, 2527, 2534, 2541, 2548, 2562, 2569, 2576, 2583, 2597, 2604, 2611, 2618, 2632, 2639, 2646, 2653, 2667, 2674, 2681, 2688, 2702, 2709, 2716, 2723, 2737, 2744, 2751, 2758, 2772, 2779, 2786, 2793, 2807, 2814, 2821, 2828, 2842, 2849, 2856, 2863, 2877, 2884, 2891, 2898, 2912, 2919, 2926, 2933, 2947, 2954, 2961, 2968, 2982, 2989, 2996, 3003, 3017, 3024, 3031, 3038, 3052, 3059, 3066, 3073, 3087, 3094, 3101, 3108, 3122, 3129, 3136, 3143, 3157, 3164, 3171, 3178, 3192, 3199]\n"
     ]
    }
   ],
   "source": [
    "num_a=range(2000,3201)\n",
    "l=[]\n",
    "for i in num_a:\n",
    "    if (i%7==0 and i%5!=0):\n",
    "        l.append(i)\n",
    "    else:\n",
    "        continue\n",
    "print (l)"
   ]
  },
  {
   "cell_type": "code",
   "execution_count": 5,
   "metadata": {},
   "outputs": [
    {
     "name": "stdout",
     "output_type": "stream",
     "text": [
      "   Age Location Name\n",
      "0   24       NY  Adi\n",
      "1   45       TX  Bhi\n",
      "2   32       KS  Hge\n",
      "3   55       MI  Bko\n"
     ]
    }
   ],
   "source": [
    "import pandas as pd\n",
    "data={'Name':[\"Adi\", \"Bhi\", \"Hge\", \"Bko\"],\n",
    "      'Location':[\"NY\",\"TX\",\"KS\",\"MI\"], 'Age':[24,45,32,55]}\n",
    "pandas_df=pd.DataFrame(data)\n",
    "print (pandas_df)"
   ]
  },
  {
   "cell_type": "code",
   "execution_count": 10,
   "metadata": {},
   "outputs": [
    {
     "name": "stdout",
     "output_type": "stream",
     "text": [
      "pandas version 0.20.1 \n",
      "sklearn version 0.18.1 \n"
     ]
    }
   ],
   "source": [
    "import sklearn\n",
    "print(\"pandas version %s \"% pd.__version__)\n",
    "print(\"sklearn version %s \" % sklearn.__version__)"
   ]
  }
 ],
 "metadata": {
  "kernelspec": {
   "display_name": "Python 3",
   "language": "python",
   "name": "python3"
  },
  "language_info": {
   "codemirror_mode": {
    "name": "ipython",
    "version": 3
   },
   "file_extension": ".py",
   "mimetype": "text/x-python",
   "name": "python",
   "nbconvert_exporter": "python",
   "pygments_lexer": "ipython3",
   "version": "3.6.1"
  }
 },
 "nbformat": 4,
 "nbformat_minor": 2
}
